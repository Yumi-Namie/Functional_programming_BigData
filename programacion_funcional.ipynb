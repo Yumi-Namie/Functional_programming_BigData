{
 "cells": [
  {
   "cell_type": "markdown",
   "metadata": {},
   "source": [
    "# Programación Funcional"
   ]
  },
  {
   "cell_type": "markdown",
   "metadata": {},
   "source": [
    "## Qué es la programación funcional?\n",
    "La programción fucional es el paradigma que utiliza funciones para expresar su comportamiento.\n",
    "\n",
    "Para entender la programación funcional, es necesario entender la programación imperativa y los side effects.\n",
    "La programación imperativa se puede definir como la programación que se ejecuta de forma secuencial y va cambiando el estado de la aplicación.\n",
    "por cambiar el estado de la aplicación nos referimos a la modificación de de las variable y los objetos de la aplicación.\n",
    "\n",
    "En contraposición a la programación imperativa, la programación funcional no modifica el estado de la aplicación."
   ]
  },
  {
   "cell_type": "markdown",
   "metadata": {},
   "source": [
    "### Ejemplo de programacion funcional vs programación imperativa"
   ]
  },
  {
   "cell_type": "code",
   "execution_count": 1,
   "metadata": {},
   "outputs": [],
   "source": [
    "# Programacion imperativa\n",
    "enteros = [1,2,3,4,5,6]"
   ]
  },
  {
   "cell_type": "code",
   "execution_count": 3,
   "metadata": {},
   "outputs": [
    {
     "name": "stdout",
     "output_type": "stream",
     "text": [
      "[2, 4, 6]\n"
     ]
    }
   ],
   "source": [
    "'''\n",
    "lista los números pares de la lista enteros\n",
    "'''\n",
    "pares = []\n",
    "for valor in enteros:\n",
    "    if valor %2 ==0:\n",
    "        pares.append(valor)\n",
    "\n",
    "print(pares)"
   ]
  },
  {
   "cell_type": "code",
   "execution_count": 4,
   "metadata": {},
   "outputs": [
    {
     "name": "stdout",
     "output_type": "stream",
     "text": [
      "[4, 16, 36]\n"
     ]
    }
   ],
   "source": [
    "'''\n",
    "eleva al cuadrado los números de la lista pares\n",
    "'''\n",
    "\n",
    "cuadrados = []\n",
    "for valor in pares:\n",
    "    cuadrados.append(valor**2)\n",
    "    \n",
    "print(cuadrados)"
   ]
  },
  {
   "cell_type": "code",
   "execution_count": 7,
   "metadata": {},
   "outputs": [
    {
     "name": "stdout",
     "output_type": "stream",
     "text": [
      "56\n"
     ]
    }
   ],
   "source": [
    "'''\n",
    "suma todos los números de la lista cuadrados\n",
    "'''\n",
    "sumatorio = 0\n",
    "for valor in cuadrados:\n",
    "    sumatorio += valor\n",
    "print(sumatorio)"
   ]
  },
  {
   "cell_type": "markdown",
   "metadata": {},
   "source": [
    "Como podemos ver en el ejemplo anterior, mediante programación imperativa vamos creando una serie de variables, modificando su estado y obteniendo un resultado.\n",
    "Ahora vamos a hacer lo mismo con programación funcional."
   ]
  },
  {
   "cell_type": "code",
   "execution_count": null,
   "metadata": {},
   "outputs": [],
   "source": [
    "# Programacion funcional\n",
    "enteros = [1,2,3,4,5,6]"
   ]
  },
  {
   "cell_type": "code",
   "execution_count": 10,
   "metadata": {},
   "outputs": [
    {
     "name": "stdout",
     "output_type": "stream",
     "text": [
      "[2, 4, 6]\n"
     ]
    }
   ],
   "source": [
    "'''\n",
    "lista los números pares de la lista enteros\n",
    "'''\n",
    "pares = filter(lambda x: x % 2 == 0, enteros)\n",
    "print(list(pares))"
   ]
  },
  {
   "cell_type": "code",
   "execution_count": 13,
   "metadata": {},
   "outputs": [
    {
     "data": {
      "text/plain": [
       "[4, 16, 36]"
      ]
     },
     "execution_count": 13,
     "metadata": {},
     "output_type": "execute_result"
    }
   ],
   "source": [
    "'''\n",
    "eleva al cuadrado los números de la lista pares\n",
    "'''\n",
    "list(map(lambda x: x**2, list(filter(lambda x: x %2 ==0, enteros))))"
   ]
  },
  {
   "cell_type": "code",
   "execution_count": 15,
   "metadata": {},
   "outputs": [
    {
     "data": {
      "text/plain": [
       "56"
      ]
     },
     "execution_count": 15,
     "metadata": {},
     "output_type": "execute_result"
    }
   ],
   "source": [
    "'''\n",
    "suma todos los números de la lista cuadrados\n",
    "'''\n",
    "from functools import reduce\n",
    "reduce(lambda x, y: x + y, list(map(lambda x: x**2, list(filter(lambda x: x %2 ==0, enteros)))))"
   ]
  },
  {
   "cell_type": "markdown",
   "metadata": {},
   "source": [
    "### Conceptos"
   ]
  },
  {
   "cell_type": "markdown",
   "metadata": {},
   "source": [
    "#### Funciones puras\n",
    "\n",
    "- Son funciones que no tienen side effects, es decir, que no modifican el estado de la aplicación.\n",
    "- Dado un mismo input, siempre van a devolver el mismo output.\n",
    "- No dependen de ningún estado externo.\n"
   ]
  },
  {
   "cell_type": "markdown",
   "metadata": {},
   "source": [
    "#### Compocision de funciones\n",
    "\n",
    "- Es la combinación de dos o más funciones con el objetivo de ejecutarlas de forma secuencial para obtener un resultado."
   ]
  },
  {
   "cell_type": "markdown",
   "metadata": {},
   "source": [
    "Qué vamos a ver?\n",
    "- Funciones anonimas (lambda)\n",
    "- Filter\n",
    "- Map\n",
    "- zip\n",
    "- Reduce\n",
    "- partial"
   ]
  },
  {
   "cell_type": "markdown",
   "metadata": {},
   "source": [
    "### Lambda\n",
    "Las expresiones lamda son funciones anónimas."
   ]
  },
  {
   "cell_type": "code",
   "execution_count": 8,
   "metadata": {},
   "outputs": [
    {
     "data": {
      "text/plain": [
       "13.341664064126334"
      ]
     },
     "execution_count": 8,
     "metadata": {},
     "output_type": "execute_result"
    }
   ],
   "source": [
    "'''\n",
    "lambda se define como una funcion anonima.\n",
    "\n",
    "lambda x: x + 1\n",
    "      ^    ^\n",
    "      arg body\n",
    "\n",
    "a continuación de lambda se indican los argumentos de la funcion y después de : se indica el cuerpo de la funcion.\n",
    "'''\n",
    "# la raiz cuadrada\n",
    "sqroot = lambda x: x ** 0.5\n",
    "sqroot(4)\n",
    "\n",
    "#Multiplicar por dos\n",
    "multiplicar_por_2 = lambda x: x *2\n",
    "\n",
    "# Unird dos funciones: raiz cuadrada y multiplicar por dos\n",
    "sqroot(multiplicar_por_2 (89))\n",
    "\n"
   ]
  },
  {
   "cell_type": "code",
   "execution_count": 10,
   "metadata": {},
   "outputs": [
    {
     "name": "stdout",
     "output_type": "stream",
     "text": [
      "Hola, soy un texto de prueba\n",
      " con salto de linea\n",
      "Hola soy un texto de prueba con salto de linea\n"
     ]
    }
   ],
   "source": [
    "# Quitar comas en texto:\n",
    "quitar_comas = lambda texto: texto.replace( ',', '')\n",
    "quitar_salto_linea = lambda texto: texto.replace('\\n', '')\n",
    "\n",
    "txt_prueba = 'Hola, soy un texto de prueba\\n con salto de linea'\n",
    "print(txt_prueba)\n",
    "print(quitar_salto_linea(quitar_comas(txt_prueba)))"
   ]
  },
  {
   "cell_type": "markdown",
   "metadata": {},
   "source": [
    "args* - Lambdas con vários argumentos"
   ]
  },
  {
   "cell_type": "code",
   "execution_count": 12,
   "metadata": {},
   "outputs": [
    {
     "name": "stdout",
     "output_type": "stream",
     "text": [
      "[3, 4, 5, 6, 7, 8, 9, 10, 11]\n",
      "[4, 9, 16]\n",
      "9\n"
     ]
    }
   ],
   "source": [
    "# A las funciones lambdas se les pueden passra 2 o más argumentos\n",
    "\n",
    "sumar = lambda x ,y: x +y\n",
    "sumar(2,3)\n",
    "\n",
    "sumar = lambda x ,y, z: x + y + z\n",
    "sumar(2, 3, 4)\n",
    "\n",
    "\n",
    "# Podemos pasar un numero indefinido de argumentos\n",
    "sumar = lambda *args: map(lambda x: x +1, args)\n",
    "print(list(sumar(2, 3, 4, 5, 6, 7, 8, 9, 10)))\n",
    "\n",
    "# Podemos pasar un numero indefinido de argumentos\n",
    "test1 = lambda *args: map(lambda x: x **2, args)\n",
    "print(list(test1(2, 3, 4)))\n",
    "\n",
    "# Acceder individualmente a los argumentos - los args es una lista de argumentos\n",
    "test = lambda *args: args[1] **2\n",
    "print(test(2, 3, 4))"
   ]
  },
  {
   "cell_type": "markdown",
   "metadata": {},
   "source": [
    "### filter"
   ]
  },
  {
   "cell_type": "code",
   "execution_count": 25,
   "metadata": {},
   "outputs": [
    {
     "name": "stdout",
     "output_type": "stream",
     "text": [
      "[2, 4, 6, 8]\n"
     ]
    }
   ],
   "source": [
    "'''\n",
    "filter (función, iterable) => iterable\n",
    "'''\n",
    "\n",
    "enteros = [1,2,3,4,5,6,7,8]\n",
    "\n",
    "filtra_pares = lambda x: x %2 ==0\n",
    "print (list(filter(filtra_pares, enteros)))"
   ]
  },
  {
   "cell_type": "code",
   "execution_count": 30,
   "metadata": {},
   "outputs": [
    {
     "name": "stdout",
     "output_type": "stream",
     "text": [
      "[40, 50, 60]\n",
      "[20, 30, 40]\n"
     ]
    }
   ],
   "source": [
    "edad = [10, 20, 30, 40, 50, 60, 70, 80, 90, 100]\n",
    "\n",
    "filtra_rango_40_60 = lambda x: x >= 40 and x <= 60\n",
    "filtra_rango_18_40 = lambda x: x >= 18 and x <= 40\n",
    "\n",
    "lista_de_filtros = [filtra_rango_40_60, filtra_rango_18_40]\n",
    "\n",
    "\n",
    "print(list(filter(filtra_rango_18_40, edad)))\n",
    "\n",
    "#Otra mnanera:\n",
    "# for filtro in lista_de_filtros:\n",
    "#     print(list(filter(filtro, edad)))"
   ]
  },
  {
   "cell_type": "markdown",
   "metadata": {},
   "source": [
    "Como hemos visto anteriormente podemos indicar una función lambda para filtrar una lista de elementos."
   ]
  },
  {
   "cell_type": "code",
   "execution_count": 32,
   "metadata": {},
   "outputs": [
    {
     "data": {
      "text/plain": [
       "[{'nombre': 'Maria', 'nacimiento': 1980},\n",
       " {'nombre': 'Juana', 'nacimiento': 1995},\n",
       " {'nombre': 'Jorge', 'nacimiento': 1985},\n",
       " {'nombre': 'Pablo', 'nacimiento': 1990},\n",
       " {'nombre': 'Clara', 'nacimiento': 1995}]"
      ]
     },
     "execution_count": 32,
     "metadata": {},
     "output_type": "execute_result"
    }
   ],
   "source": [
    "'''\n",
    "crea una función lambda que reciba un año de nacimiento y devuelva la edad actual\n",
    "'''\n",
    "edad = lambda x: 2022 - x\n",
    "'''\n",
    "ahora filtra una lista de usuarios que tengan una edad mayor a 18\n",
    "'''\n",
    "usuarios = [ \n",
    "    {'nombre': 'Juan', 'nacimiento': 2017},\n",
    "    {'nombre': 'Pedro', 'nacimiento': 2018},\n",
    "    {'nombre': 'Maria', 'nacimiento': 1980},\n",
    "    {'nombre': 'Juana', 'nacimiento': 1995},\n",
    "    {'nombre': 'Jorge', 'nacimiento': 1985},\n",
    "    {'nombre': 'Pablo', 'nacimiento': 1990},\n",
    "    {'nombre': 'Clara', 'nacimiento': 1995},\n",
    "    {'nombre': 'Bea', 'nacimiento': 2019},\n",
    "    {'nombre': 'Pilar', 'nacimiento': 2010},\n",
    "    ]\n",
    "\n",
    "mayores_a_18 = lambda x: edad(x['nacimiento']) >= 18\n",
    "\n",
    "list(filter(mayores_a_18, usuarios))"
   ]
  },
  {
   "cell_type": "markdown",
   "metadata": {},
   "source": [
    "Iterar un data fram de pandas"
   ]
  },
  {
   "cell_type": "code",
   "execution_count": 39,
   "metadata": {},
   "outputs": [
    {
     "data": {
      "text/plain": [
       "[(2,\n",
       "  nombre        Maria\n",
       "  nacimiento     1980\n",
       "  Name: 2, dtype: object),\n",
       " (3,\n",
       "  nombre        Juana\n",
       "  nacimiento     1995\n",
       "  Name: 3, dtype: object),\n",
       " (4,\n",
       "  nombre        Jorge\n",
       "  nacimiento     1985\n",
       "  Name: 4, dtype: object),\n",
       " (5,\n",
       "  nombre        Pablo\n",
       "  nacimiento     1990\n",
       "  Name: 5, dtype: object),\n",
       " (6,\n",
       "  nombre        Clara\n",
       "  nacimiento     1995\n",
       "  Name: 6, dtype: object)]"
      ]
     },
     "execution_count": 39,
     "metadata": {},
     "output_type": "execute_result"
    }
   ],
   "source": [
    "import pandas as pd\n",
    "\n",
    "df = pd.DataFrame(usuarios)\n",
    "\n",
    "mayores_a_18 = lambda x: edad(x[1]['nacimiento']) >= 18\n",
    "\n",
    "list(filter (mayores_a_18, df.iterrows()))"
   ]
  },
  {
   "cell_type": "code",
   "execution_count": 40,
   "metadata": {},
   "outputs": [
    {
     "data": {
      "text/plain": [
       "['prueba', 'filtra', 'longitud']"
      ]
     },
     "execution_count": 40,
     "metadata": {},
     "output_type": "execute_result"
    }
   ],
   "source": [
    "'''\n",
    "Filtra las cadenas de la lista que tengan una longitud mayor a 5\n",
    "'''\n",
    "\n",
    "lista = ['hola', 'soy', 'un', 'texto', ' de', 'prueba', 'para', 'filtra', 'por','longitud']\n",
    "filtro_longitud_5 = lambda x: len(x) > 5\n",
    "list(filter(filtro_longitud_5, lista))"
   ]
  },
  {
   "cell_type": "code",
   "execution_count": 41,
   "metadata": {},
   "outputs": [
    {
     "data": {
      "text/plain": [
       "['prueba', 'filtra', 'longitud']"
      ]
     },
     "execution_count": 41,
     "metadata": {},
     "output_type": "execute_result"
    }
   ],
   "source": [
    "'''\n",
    "filtra las cadenas de la lista que tengan una longitud mayor al número indicado en el argumento\n",
    "'''\n",
    "filtro_longitud = lambda x, longitud: len(x) > longitud\n",
    "list(filter(lambda x: filtro_longitud (x,5), lista))\n",
    "\n",
    "\n"
   ]
  },
  {
   "cell_type": "markdown",
   "metadata": {},
   "source": [
    "### map"
   ]
  },
  {
   "cell_type": "code",
   "execution_count": 43,
   "metadata": {},
   "outputs": [
    {
     "data": {
      "text/plain": [
       "[11, 22, 33, 44, 55, 66]"
      ]
     },
     "execution_count": 43,
     "metadata": {},
     "output_type": "execute_result"
    }
   ],
   "source": [
    "'''\n",
    "map (función, iterable1, iterable2, ... ) => iterable\n",
    "'''\n",
    "\n",
    "enteros = [1,2,3,4,5,6,8]\n",
    "\n",
    "# Suma 10 a cada elemento de la lista\n",
    "\n",
    "suma_10 = lambda x : x +10\n",
    "list(map(suma_10, enteros))\n",
    "\n",
    "# Aplicar el map utilizando iterables\n",
    "\n",
    "suma_valores = lambda x, y: x +y\n",
    "list(map(suma_valores , enteros, [10,20,30,40,50,60]))\n",
    "\n"
   ]
  },
  {
   "cell_type": "code",
   "execution_count": 45,
   "metadata": {},
   "outputs": [
    {
     "data": {
      "text/plain": [
       "['Hola Ana', 'Hola Pedro', 'Hola Maria']"
      ]
     },
     "execution_count": 45,
     "metadata": {},
     "output_type": "execute_result"
    }
   ],
   "source": [
    "'''\n",
    "Crea un función que reciba una lista de nombres y añada 'Hola' seguido de cada nombre.\n",
    "'''\n",
    "saludar = lambda nombre: 'Hola ' + nombre\n",
    "personas = ['Ana', 'Pedro', 'Maria']\n",
    "\n",
    "list(map(saludar,personas))"
   ]
  },
  {
   "cell_type": "code",
   "execution_count": 14,
   "metadata": {},
   "outputs": [
    {
     "data": {
      "text/plain": [
       "[1, 2, 3, 4, 5, 6]"
      ]
     },
     "execution_count": 14,
     "metadata": {},
     "output_type": "execute_result"
    }
   ],
   "source": [
    "'''\n",
    "Crea una función que reciba una lista de valores decimales y que devuelva una lista con los valores convertidos a enteros.\n",
    "'''\n",
    "lista_decimales = [1.1, 2.2, 3.3, 4.4,5.5, 6.6]\n",
    "to_int = lambda x: int(x)\n",
    "list(map(to_int, lista_decimales))"
   ]
  },
  {
   "cell_type": "markdown",
   "metadata": {},
   "source": [
    "### zip"
   ]
  },
  {
   "cell_type": "code",
   "execution_count": 23,
   "metadata": {},
   "outputs": [
    {
     "name": "stdout",
     "output_type": "stream",
     "text": [
      "(1, 10)\n",
      "(2, 20)\n",
      "(3, 30)\n",
      "(4, 40)\n",
      "(5, 50)\n",
      "(6, 60)\n",
      "(7, 70)\n",
      "(8, 80)\n",
      "(9, 90)\n"
     ]
    }
   ],
   "source": [
    "'''\n",
    "zip (iterable1, iterable2, ...) => iterable\n",
    "'''\n",
    "\n",
    "iterable = zip ([1,2,3,4,5,6,7,8,9], [10,20,30,40,50,60,70,80,90])\n",
    "\n",
    "for x in iterable:\n",
    "    print (x)\n",
    "\n"
   ]
  },
  {
   "cell_type": "code",
   "execution_count": 22,
   "metadata": {},
   "outputs": [
    {
     "data": {
      "text/plain": [
       "[11, 22, 33, 44, 55, 66, 77, 88, 99]"
      ]
     },
     "execution_count": 22,
     "metadata": {},
     "output_type": "execute_result"
    }
   ],
   "source": [
    "# Como se puede ver acima, x es una tupla con dos valores... \n",
    "suma_valores = lambda x : x[0] + x[1]\n",
    "list(map(suma_valores, iterable))"
   ]
  },
  {
   "cell_type": "code",
   "execution_count": 48,
   "metadata": {},
   "outputs": [
    {
     "data": {
      "text/plain": [
       "[(1, 10, 100),\n",
       " (2, 20, 200),\n",
       " (3, 30, 300),\n",
       " (4, 40, 400),\n",
       " (5, 50, 500),\n",
       " (6, 60, 600),\n",
       " (7, 70, 700),\n",
       " (8, 80, 800),\n",
       " (9, 90, 900)]"
      ]
     },
     "execution_count": 48,
     "metadata": {},
     "output_type": "execute_result"
    }
   ],
   "source": [
    "iterable = zip ([1,2,3,4,5,6,7,8,9], [10,20,30,40,50,60,70,80,90], [100,200,300,400,500,600,700,800,900])\n",
    "imprime_valores = lambda x: x\n",
    "list(map(imprime_valores, iterable))"
   ]
  },
  {
   "cell_type": "code",
   "execution_count": 50,
   "metadata": {},
   "outputs": [
    {
     "data": {
      "text/plain": [
       "[{'nombre': 'ana', 'apellido': 'Lopes', 'nacimiento': '1990'},\n",
       " {'nombre': 'Pedro', 'apellido': 'Gomez', 'nacimiento': '1890'},\n",
       " {'nombre': 'Juan', 'apellido': 'Sanches', 'nacimiento': '1980'},\n",
       " {'nombre': 'Paul', 'apellido': 'Garcia', 'nacimiento': '2000'}]"
      ]
     },
     "execution_count": 50,
     "metadata": {},
     "output_type": "execute_result"
    }
   ],
   "source": [
    "# Vamos a unir nombre y apellidos\n",
    "\n",
    "nombre = ['ana', 'Pedro', 'Juan', 'Paul']\n",
    "apellidos = ['Lopes', 'Gomez', 'Sanches', 'Garcia']\n",
    "nacimiento = ['1990', '1890', '1980','2000']\n",
    "\n",
    "crear_entrada = lambda x : {'nombre': x[0], 'apellido': x[1], 'nacimiento': x[2]}\n",
    "\n",
    "list(map(crear_entrada, zip(nombre, apellidos, nacimiento)))"
   ]
  },
  {
   "cell_type": "markdown",
   "metadata": {},
   "source": [
    "### reduce"
   ]
  },
  {
   "cell_type": "code",
   "execution_count": 54,
   "metadata": {},
   "outputs": [
    {
     "name": "stdout",
     "output_type": "stream",
     "text": [
      "12\n"
     ]
    }
   ],
   "source": [
    "from functools import reduce\n",
    "# La función reduce lo que hace es aplicar una función a un iterable y devolver un único valor. \n",
    "# La función reduce recibe como argumentos una función y un iterable.\n",
    "\n",
    "'''\n",
    "reduce (función, iterable) => valor\n",
    "'''\n",
    "# Podemos definir el acumulador y por ejemplo  empezar con 6\n",
    "\n",
    "suma = lambda x, y: x+y\n",
    "print(reduce(suma, [1,2,3], 6))"
   ]
  },
  {
   "cell_type": "code",
   "execution_count": 57,
   "metadata": {},
   "outputs": [
    {
     "name": "stdout",
     "output_type": "stream",
     "text": [
      "100\n"
     ]
    }
   ],
   "source": [
    "from functools import reduce\n",
    "'''\n",
    "Dada una lista de numeros, devuelve el valor del numero mayor. Utilizando reduce\n",
    "'''\n",
    "lista = [53, 23, 56, 12, 98, 34,34,23]\n",
    "elemento_mayor = lambda x, y: x if x > y else y\n",
    "\n",
    "max_value = reduce (elemento_mayor, lista, 100)\n",
    "print(max_value)"
   ]
  },
  {
   "cell_type": "code",
   "execution_count": 58,
   "metadata": {},
   "outputs": [
    {
     "name": "stdout",
     "output_type": "stream",
     "text": [
      " El gato come pescado\n"
     ]
    }
   ],
   "source": [
    "lemma_tokens = [('El', 'el', 'DET'),('gato', 'gato', 'NOUN'),('come', 'comer', 'VERB'),('pescado', 'pescado', 'NOUN')]\n",
    "\n",
    "concat_text = lambda x, y : x + ' ' + y[0]\n",
    "\n",
    "print(reduce(concat_text, lemma_tokens, ''))"
   ]
  },
  {
   "cell_type": "code",
   "execution_count": 26,
   "metadata": {},
   "outputs": [
    {
     "name": "stdout",
     "output_type": "stream",
     "text": [
      "False\n"
     ]
    }
   ],
   "source": [
    "from functools import reduce\n",
    "'''\n",
    "dado un array de booleanos, comprueba si todos los elementos son true\n",
    "'''\n",
    "\n",
    "booleanos = [True, True, True, True, False, True, True , False]\n",
    "\n",
    "ambos_true = lambda x, y: x and y\n",
    "\n",
    "todos_true = reduce (ambos_true, booleanos, True)\n",
    "print(todos_true)"
   ]
  },
  {
   "cell_type": "code",
   "execution_count": 27,
   "metadata": {},
   "outputs": [
    {
     "name": "stdout",
     "output_type": "stream",
     "text": [
      "55\n",
      "55\n"
     ]
    }
   ],
   "source": [
    "'''\n",
    "suma el valor de todos los elementos de una lista\n",
    "'''\n",
    "\n",
    "\n",
    "list_numeros = [1,2,3,4,5,6,7,8,9,10]\n",
    "\n",
    "#Enfoque imperativo\n",
    "acumulador = 0\n",
    "for elemento in list_numeros:\n",
    "    acumulador += elemento\n",
    "print(acumulador)\n",
    "\n",
    "# Enfoque funcional\n",
    "print(reduce(lambda x, y: x +y , list_numeros, 0))\n"
   ]
  },
  {
   "cell_type": "code",
   "execution_count": 28,
   "metadata": {},
   "outputs": [
    {
     "name": "stdout",
     "output_type": "stream",
     "text": [
      "5\n",
      "5\n"
     ]
    }
   ],
   "source": [
    "'''\n",
    "Cuenta el número de elementos de un iterable que cumplan una condición.\n",
    "'''\n",
    "# Enfoque imperativo\n",
    "contador = 0\n",
    "for elemento in list_numeros:\n",
    "    if elemento % 2 == 0:\n",
    "        contador += 1\n",
    "print(contador)\n",
    "\n",
    "# Enfoque funcional\n",
    "print(reduce(lambda x, y: x +1 if y %2 ==0 else x, list_numeros, 0))"
   ]
  },
  {
   "cell_type": "markdown",
   "metadata": {},
   "source": [
    "### partial"
   ]
  },
  {
   "cell_type": "code",
   "execution_count": 30,
   "metadata": {},
   "outputs": [
    {
     "name": "stdout",
     "output_type": "stream",
     "text": [
      "11\n",
      "22\n",
      "30\n"
     ]
    },
    {
     "data": {
      "text/plain": [
       "[11, 4, 13, 6, 15, 8, 17, 10, 19, 12]"
      ]
     },
     "execution_count": 30,
     "metadata": {},
     "output_type": "execute_result"
    }
   ],
   "source": [
    "# La funcion partial se utiliza para crear una nueva función a partir de una función existente.\n",
    "\n",
    "from functools import partial\n",
    "suma = lambda x, y: x + y\n",
    "\n",
    "\n",
    "\"\"\"La funcion que estamos utilizando recibe 2 argumentos, con el partial,\n",
    "podemos predefir un argumento por default y pedir solo un nº como argumento\n",
    "\"\"\"\n",
    "\n",
    "suma_2 = partial(suma, 2)\n",
    "suma_10 = partial (suma, 10)\n",
    "\n",
    "\n",
    "\n",
    "print(suma(5,6))\n",
    "print(suma_2(20))\n",
    "print(suma_10(20))\n",
    "\n",
    "lista_numeros = [1,2,3,4,5,6,7,8,9,10]\n",
    "list(map(lambda x: suma_2(x) if x % 2 == 0 else suma_10(x), lista_numeros))\n",
    "\n",
    "\n",
    "\n"
   ]
  },
  {
   "cell_type": "code",
   "execution_count": 35,
   "metadata": {},
   "outputs": [
    {
     "data": {
      "text/plain": [
       "40"
      ]
     },
     "execution_count": 35,
     "metadata": {},
     "output_type": "execute_result"
    }
   ],
   "source": [
    "suma = lambda x, y: x + y\n",
    "\n",
    "prueba = lambda x: partial(suma, x*2)\n",
    "\n",
    "prueba(10)(20)\n",
    "\n",
    "# lambda x: partial (x + y, x *2)\n",
    "# lambda 10: partial (x + 20, 10*2)\n",
    "# x + y\n",
    "# 10 * 2 + 20 = 40"
   ]
  },
  {
   "cell_type": "code",
   "execution_count": 38,
   "metadata": {},
   "outputs": [
    {
     "name": "stdout",
     "output_type": "stream",
     "text": [
      "6\n",
      "11\n"
     ]
    }
   ],
   "source": [
    "suma_de_3 = lambda x, y, z: x + y+ z\n",
    "nueva_suma = partial(suma_de_3, 1,2)\n",
    "print(nueva_suma(3))\n",
    "# x = 1, y = 2, z = 3\n",
    "\n",
    "suma_de_3 = lambda x, y, z: x *2 + y *3 + z\n",
    "nueva_suma = partial(suma_de_3, 1)\n",
    "print(nueva_suma(2,3))\n",
    "# x *2 = 2, y*3 = 6, z = 3"
   ]
  },
  {
   "cell_type": "markdown",
   "metadata": {},
   "source": [
    "## Ejemplos:"
   ]
  },
  {
   "cell_type": "code",
   "execution_count": 40,
   "metadata": {},
   "outputs": [
    {
     "name": "stdout",
     "output_type": "stream",
     "text": [
      "op1:  ['HOLA', 'QUE', 'TAL', 'ESTAS', 'HOY']\n",
      "op2:  ['HOLA', 'QUE', 'TAL', 'ESTAS', 'HOY']\n"
     ]
    }
   ],
   "source": [
    "# 1. Data una lista de cadenas obtener una lista de cadenas en mayúsculas\n",
    "\n",
    "lista_de_palabras = ['hola', 'que', 'tal','estas', 'hoy']\n",
    "# a_mayusculas = lambda x: x.upper()\n",
    "\n",
    "a_mayusculas = lambda letra: letra.upper()\n",
    "cadena_a_mayusculas = lambda palabra: ''.join(list(map(a_mayusculas, palabra)))\n",
    "\n",
    "print(\"op1: \", list(map(cadena_a_mayusculas, lista_de_palabras)))\n",
    "\n",
    "# Otra manera de guardar parcialemnte la funciónm\n",
    "print(\"op2: \",list(map(lambda palabra: ''.join(list(map(lambda letra: letra.upper(), palabra))), lista_de_palabras)))\n"
   ]
  },
  {
   "cell_type": "code",
   "execution_count": 89,
   "metadata": {},
   "outputs": [
    {
     "data": {
      "text/plain": [
       "['Juan', 'Maria', 'Jorge']"
      ]
     },
     "execution_count": 89,
     "metadata": {},
     "output_type": "execute_result"
    }
   ],
   "source": [
    "# 2. Dada una lista de alumnos con sus calificaciones, obtener una lista con el nombre de los que han obtenido una calificación media mayor a 7\n",
    "alumnos = [ {\n",
    "    'nombre': 'Juan',\n",
    "    'calificaciones': [10, 9, 6] # promedio: 7.5\n",
    "    },\n",
    "    {\n",
    "    'nombre': 'Pedro',\n",
    "    'calificaciones': [8, 7, 5] # promedio: 6.5\n",
    "    },\n",
    "    {\n",
    "    'nombre': 'Maria',\n",
    "    'calificaciones': [9, 8, 7] # promedio: 8.0\n",
    "    },\n",
    "    {\n",
    "    'nombre': 'Juana',\n",
    "    'calificaciones': [3,6,4] # promedio: 5.0\n",
    "    },\n",
    "    {\n",
    "    'nombre': 'Jorge',\n",
    "    'calificaciones': [10, 10, 10] # promedio: 10.0\n",
    "    },\n",
    "    {\n",
    "    'nombre': 'Pablo',\n",
    "    'calificaciones': [2, 0, 1] # promedio: 1.0\n",
    "    },\n",
    "    {\n",
    "    'nombre': 'Pilar',\n",
    "    'calificaciones': [5,6,6] # promedio: 5.6\n",
    "    }]\n",
    "\n",
    "\n",
    "promedio_de_calificaciones = lambda calificaciones: reduce(lambda x, y: x + y, calificaciones, 0)/ len(calificaciones)\n",
    "promedio_de_calificaciones([5,6,6])\n",
    "    \n",
    "list(map(lambda alumno: alumno['nombre'], filter(lambda alumno: promedio_de_calificaciones(alumno['calificaciones'])> 7, alumnos)))"
   ]
  },
  {
   "cell_type": "code",
   "execution_count": 91,
   "metadata": {},
   "outputs": [
    {
     "data": {
      "text/plain": [
       "['rajar', 'radar', 'oro']"
      ]
     },
     "execution_count": 91,
     "metadata": {},
     "output_type": "execute_result"
    }
   ],
   "source": [
    "# 3. Dada una lista de palabras, obtener una lista con las palabras que son palíndromos\n",
    "# palíndromo: una palabra que se lee de izquierda a derecha igual que de derecha a izquierda\n",
    "\n",
    "palabras = ['rajar', 'amar', 'radar', 'salar', 'alada', 'oro', 'arar']\n",
    "\n",
    "list(filter(lambda palabra: palabra == palabra [::-1], palabras))\n"
   ]
  },
  {
   "cell_type": "code",
   "execution_count": 92,
   "metadata": {},
   "outputs": [
    {
     "data": {
      "text/plain": [
       "[1, 4, 9, 16, 25]"
      ]
     },
     "execution_count": 92,
     "metadata": {},
     "output_type": "execute_result"
    }
   ],
   "source": [
    "# 4. Define una función que dado un valor genere una lista con los números desde 1 hasta ese valor elevados al cuadrado\n",
    "cuadrados = lambda x: map(lambda y: y **2, range (1, x+1))\n",
    "list(cuadrados(5))"
   ]
  },
  {
   "cell_type": "code",
   "execution_count": 98,
   "metadata": {},
   "outputs": [
    {
     "data": {
      "text/plain": [
       "['estas', 'prueba']"
      ]
     },
     "execution_count": 98,
     "metadata": {},
     "output_type": "execute_result"
    }
   ],
   "source": [
    "# 5. Define una funcion que retorne las palabra de una lista con una longitud mayor a 5\n",
    "\n",
    "texto = 'hola que tal estas hoy esto es una prueba'\n",
    "texto = texto.split()\n",
    "\n",
    "list(filter(lambda palabra: len(palabra)>=5, texto))\n"
   ]
  },
  {
   "cell_type": "code",
   "execution_count": 99,
   "metadata": {},
   "outputs": [
    {
     "data": {
      "text/plain": [
       "['estas', 'esto', 'es', 'adios']"
      ]
     },
     "execution_count": 99,
     "metadata": {},
     "output_type": "execute_result"
    }
   ],
   "source": [
    "# 6. Define una función que retorne las palabras de una lista que contengan una letra dada\n",
    "texto = 'hola que tal estas hoy esto es una prueba'\n",
    "texto = texto.split()\n",
    "\n",
    "contiene_letra = lambda letra, lista: list(filter(lambda palabra: letra in palabra, lista))\n",
    "texto.append('adios')\n",
    "contiene_letra('s', texto)"
   ]
  },
  {
   "cell_type": "code",
   "execution_count": 105,
   "metadata": {},
   "outputs": [
    {
     "name": "stdout",
     "output_type": "stream",
     "text": [
      "Esto|es|un|texto|de|prueba.|Esto|es|un|texto|de|prueba.\n",
      "|Esto|es|un|texto|de|prueba.|Esto|es|un|texto|de|prueba.\n"
     ]
    }
   ],
   "source": [
    "from functools import reduce\n",
    "# 7. Define una función que dada una lista de palabras concatene todas con un '|' mediante reduce\n",
    "\n",
    "texto = \"Esto es un texto de prueba. Esto es un texto de prueba.\"\n",
    "print(texto.replace(' ' ,'|'))\n",
    "\n",
    "print(reduce(lambda palabra1, palabra2: palabra1 + '|' + palabra2, texto.split(' '), ''))\n"
   ]
  },
  {
   "cell_type": "markdown",
   "metadata": {},
   "source": [
    "### Ejemplo \"real\" con lo que hemos visto"
   ]
  },
  {
   "cell_type": "code",
   "execution_count": 111,
   "metadata": {},
   "outputs": [
    {
     "data": {
      "text/html": [
       "<div>\n",
       "<style scoped>\n",
       "    .dataframe tbody tr th:only-of-type {\n",
       "        vertical-align: middle;\n",
       "    }\n",
       "\n",
       "    .dataframe tbody tr th {\n",
       "        vertical-align: top;\n",
       "    }\n",
       "\n",
       "    .dataframe thead th {\n",
       "        text-align: right;\n",
       "    }\n",
       "</style>\n",
       "<table border=\"1\" class=\"dataframe\">\n",
       "  <thead>\n",
       "    <tr style=\"text-align: right;\">\n",
       "      <th></th>\n",
       "      <th>VIA_CLASE</th>\n",
       "      <th>VIA_PAR</th>\n",
       "      <th>VIA_NOMBRE_ACENTOS</th>\n",
       "    </tr>\n",
       "  </thead>\n",
       "  <tbody>\n",
       "    <tr>\n",
       "      <th>0</th>\n",
       "      <td>PASAJE</td>\n",
       "      <td>NaN</td>\n",
       "      <td>A</td>\n",
       "    </tr>\n",
       "    <tr>\n",
       "      <th>1</th>\n",
       "      <td>AUTOVÍA</td>\n",
       "      <td>NaN</td>\n",
       "      <td>A-1</td>\n",
       "    </tr>\n",
       "    <tr>\n",
       "      <th>2</th>\n",
       "      <td>AUTOVÍA</td>\n",
       "      <td>NaN</td>\n",
       "      <td>A-2</td>\n",
       "    </tr>\n",
       "    <tr>\n",
       "      <th>3</th>\n",
       "      <td>AUTOVÍA</td>\n",
       "      <td>NaN</td>\n",
       "      <td>A-3</td>\n",
       "    </tr>\n",
       "    <tr>\n",
       "      <th>4</th>\n",
       "      <td>AUTOVÍA</td>\n",
       "      <td>NaN</td>\n",
       "      <td>A-4</td>\n",
       "    </tr>\n",
       "    <tr>\n",
       "      <th>5</th>\n",
       "      <td>AUTOVÍA</td>\n",
       "      <td>NaN</td>\n",
       "      <td>A-42</td>\n",
       "    </tr>\n",
       "    <tr>\n",
       "      <th>6</th>\n",
       "      <td>AUTOVÍA</td>\n",
       "      <td>NaN</td>\n",
       "      <td>A-5</td>\n",
       "    </tr>\n",
       "    <tr>\n",
       "      <th>7</th>\n",
       "      <td>AUTOVÍA</td>\n",
       "      <td>NaN</td>\n",
       "      <td>A-6</td>\n",
       "    </tr>\n",
       "    <tr>\n",
       "      <th>8</th>\n",
       "      <td>CALLE</td>\n",
       "      <td>DEL</td>\n",
       "      <td>ABAD JUAN CATALÁN</td>\n",
       "    </tr>\n",
       "    <tr>\n",
       "      <th>9</th>\n",
       "      <td>CALLE</td>\n",
       "      <td>DE LA</td>\n",
       "      <td>ABADA</td>\n",
       "    </tr>\n",
       "  </tbody>\n",
       "</table>\n",
       "</div>"
      ],
      "text/plain": [
       "  VIA_CLASE VIA_PAR VIA_NOMBRE_ACENTOS\n",
       "0    PASAJE     NaN                  A\n",
       "1   AUTOVÍA     NaN                A-1\n",
       "2   AUTOVÍA     NaN                A-2\n",
       "3   AUTOVÍA     NaN                A-3\n",
       "4   AUTOVÍA     NaN                A-4\n",
       "5   AUTOVÍA     NaN               A-42\n",
       "6   AUTOVÍA     NaN                A-5\n",
       "7   AUTOVÍA     NaN                A-6\n",
       "8     CALLE     DEL  ABAD JUAN CATALÁN\n",
       "9     CALLE   DE LA              ABADA"
      ]
     },
     "execution_count": 111,
     "metadata": {},
     "output_type": "execute_result"
    }
   ],
   "source": [
    "import pandas as pd\n",
    "\n",
    "df = pd.read_csv('./madrid.csv', encoding='latin-1', usecols=['VIA_CLASE', 'VIA_PAR', 'VIA_NOMBRE_ACENTOS'], sep=';')\n",
    "df.head(10)\n",
    "\n",
    "\n",
    "\n"
   ]
  },
  {
   "cell_type": "code",
   "execution_count": 112,
   "metadata": {},
   "outputs": [
    {
     "data": {
      "text/html": [
       "<div>\n",
       "<style scoped>\n",
       "    .dataframe tbody tr th:only-of-type {\n",
       "        vertical-align: middle;\n",
       "    }\n",
       "\n",
       "    .dataframe tbody tr th {\n",
       "        vertical-align: top;\n",
       "    }\n",
       "\n",
       "    .dataframe thead th {\n",
       "        text-align: right;\n",
       "    }\n",
       "</style>\n",
       "<table border=\"1\" class=\"dataframe\">\n",
       "  <thead>\n",
       "    <tr style=\"text-align: right;\">\n",
       "      <th></th>\n",
       "      <th>VIA_CLASE</th>\n",
       "      <th>VIA_PAR</th>\n",
       "      <th>VIA_NOMBRE_ACENTOS</th>\n",
       "    </tr>\n",
       "  </thead>\n",
       "  <tbody>\n",
       "    <tr>\n",
       "      <th>0</th>\n",
       "      <td>PASAJE</td>\n",
       "      <td></td>\n",
       "      <td>A</td>\n",
       "    </tr>\n",
       "    <tr>\n",
       "      <th>1</th>\n",
       "      <td>AUTOVÍA</td>\n",
       "      <td></td>\n",
       "      <td>A-1</td>\n",
       "    </tr>\n",
       "    <tr>\n",
       "      <th>2</th>\n",
       "      <td>AUTOVÍA</td>\n",
       "      <td></td>\n",
       "      <td>A-2</td>\n",
       "    </tr>\n",
       "    <tr>\n",
       "      <th>3</th>\n",
       "      <td>AUTOVÍA</td>\n",
       "      <td></td>\n",
       "      <td>A-3</td>\n",
       "    </tr>\n",
       "    <tr>\n",
       "      <th>4</th>\n",
       "      <td>AUTOVÍA</td>\n",
       "      <td></td>\n",
       "      <td>A-4</td>\n",
       "    </tr>\n",
       "  </tbody>\n",
       "</table>\n",
       "</div>"
      ],
      "text/plain": [
       "  VIA_CLASE VIA_PAR VIA_NOMBRE_ACENTOS\n",
       "0    PASAJE                          A\n",
       "1   AUTOVÍA                        A-1\n",
       "2   AUTOVÍA                        A-2\n",
       "3   AUTOVÍA                        A-3\n",
       "4   AUTOVÍA                        A-4"
      ]
     },
     "execution_count": 112,
     "metadata": {},
     "output_type": "execute_result"
    }
   ],
   "source": [
    "#limpiar los nulos con fillna\n",
    "\n",
    "df.fillna('', inplace=True)\n",
    "df.head()"
   ]
  },
  {
   "cell_type": "code",
   "execution_count": 117,
   "metadata": {},
   "outputs": [
    {
     "name": "stdout",
     "output_type": "stream",
     "text": [
      "(|del|de la|de los|de|de las|a la|al)\\s+(|del|de la|de los|de|de las|a la|al)\\s?\n"
     ]
    },
    {
     "data": {
      "text/html": [
       "<div>\n",
       "<style scoped>\n",
       "    .dataframe tbody tr th:only-of-type {\n",
       "        vertical-align: middle;\n",
       "    }\n",
       "\n",
       "    .dataframe tbody tr th {\n",
       "        vertical-align: top;\n",
       "    }\n",
       "\n",
       "    .dataframe thead th {\n",
       "        text-align: right;\n",
       "    }\n",
       "</style>\n",
       "<table border=\"1\" class=\"dataframe\">\n",
       "  <thead>\n",
       "    <tr style=\"text-align: right;\">\n",
       "      <th></th>\n",
       "      <th>VIA_CLASE</th>\n",
       "      <th>VIA_PAR</th>\n",
       "      <th>VIA_NOMBRE_ACENTOS</th>\n",
       "    </tr>\n",
       "  </thead>\n",
       "  <tbody>\n",
       "    <tr>\n",
       "      <th>0</th>\n",
       "      <td>PASAJE</td>\n",
       "      <td></td>\n",
       "      <td>A</td>\n",
       "    </tr>\n",
       "    <tr>\n",
       "      <th>1</th>\n",
       "      <td>AUTOVÍA</td>\n",
       "      <td></td>\n",
       "      <td>A-1</td>\n",
       "    </tr>\n",
       "    <tr>\n",
       "      <th>2</th>\n",
       "      <td>AUTOVÍA</td>\n",
       "      <td></td>\n",
       "      <td>A-2</td>\n",
       "    </tr>\n",
       "    <tr>\n",
       "      <th>3</th>\n",
       "      <td>AUTOVÍA</td>\n",
       "      <td></td>\n",
       "      <td>A-3</td>\n",
       "    </tr>\n",
       "    <tr>\n",
       "      <th>4</th>\n",
       "      <td>AUTOVÍA</td>\n",
       "      <td></td>\n",
       "      <td>A-4</td>\n",
       "    </tr>\n",
       "    <tr>\n",
       "      <th>5</th>\n",
       "      <td>AUTOVÍA</td>\n",
       "      <td></td>\n",
       "      <td>A-42</td>\n",
       "    </tr>\n",
       "    <tr>\n",
       "      <th>6</th>\n",
       "      <td>AUTOVÍA</td>\n",
       "      <td></td>\n",
       "      <td>A-5</td>\n",
       "    </tr>\n",
       "    <tr>\n",
       "      <th>7</th>\n",
       "      <td>AUTOVÍA</td>\n",
       "      <td></td>\n",
       "      <td>A-6</td>\n",
       "    </tr>\n",
       "    <tr>\n",
       "      <th>8</th>\n",
       "      <td>CALLE</td>\n",
       "      <td>DEL</td>\n",
       "      <td>ABAD JUAN CATALÁN</td>\n",
       "    </tr>\n",
       "    <tr>\n",
       "      <th>9</th>\n",
       "      <td>CALLE</td>\n",
       "      <td>DE LA</td>\n",
       "      <td>ABADA</td>\n",
       "    </tr>\n",
       "  </tbody>\n",
       "</table>\n",
       "</div>"
      ],
      "text/plain": [
       "  VIA_CLASE VIA_PAR VIA_NOMBRE_ACENTOS\n",
       "0    PASAJE                          A\n",
       "1   AUTOVÍA                        A-1\n",
       "2   AUTOVÍA                        A-2\n",
       "3   AUTOVÍA                        A-3\n",
       "4   AUTOVÍA                        A-4\n",
       "5   AUTOVÍA                       A-42\n",
       "6   AUTOVÍA                        A-5\n",
       "7   AUTOVÍA                        A-6\n",
       "8     CALLE     DEL  ABAD JUAN CATALÁN\n",
       "9     CALLE   DE LA              ABADA"
      ]
     },
     "execution_count": 117,
     "metadata": {},
     "output_type": "execute_result"
    }
   ],
   "source": [
    "#pasar a minusculas\n",
    "minusculas = lambda x: x.lower()\n",
    "\n",
    "# unir las palabras\n",
    "concatenar_columnas = lambda x: x[0] + x[1] + x[2]\n",
    "\n",
    "tipos_vias = df['VIA_CLASE'].unique()\n",
    "tipos_vias_par = df['VIA_PAR'].unique()\n",
    "concatenar_elementos = lambda x,y: x + '|' + y\n",
    "\n",
    "tipos_via_procesado = reduce(concatenar_elementos, map(minusculas, tipos_vias))\n",
    "tipos_via_par_procesado = reduce(concatenar_elementos, map(minusculas, tipos_vias_par))\n",
    "\n",
    "regex = rf'({tipos_via_par_procesado})\\s+({tipos_via_par_procesado})\\s?'\n",
    "print(regex)\n",
    "\n",
    "\n",
    "\n",
    "\n",
    "\n",
    "df.head(10)\n",
    "\n"
   ]
  },
  {
   "cell_type": "markdown",
   "metadata": {},
   "source": [
    "Ejemplo 2:"
   ]
  },
  {
   "cell_type": "code",
   "execution_count": 118,
   "metadata": {},
   "outputs": [],
   "source": [
    "'''\n",
    " -----------------------\n",
    "|       |       |       |\n",
    "|   1   |   2   |   3   |\n",
    "| a b c | d e f | g h i |\n",
    " -----------------------\n",
    "|       |       |       |\n",
    "|   4   |   5   |   6   |\n",
    "| j k l | m n o | p q r |\n",
    " -----------------------\n",
    "|       |       |       |\n",
    "|   7   |   8   |   9   |\n",
    "| s t u | v w x | y z   |\n",
    " -----------------------\n",
    "\n",
    "ejemplo: \n",
    "  3541 => hola\n",
    "  57725 => mundo\n",
    "  11455 => cajón, bajón, balón\n",
    "Definir una función que dado un número, devuelva una lista con las palabras que se pueden escribir en ese número\n",
    "'''\n",
    "teclado = { 'abc': 1, 'def': 2, 'ghi': 3, 'jkl': 4, 'mno': 5, 'pqr': 6, 'stu': 7, 'vwx': 8, 'yz': 9 }\n"
   ]
  },
  {
   "cell_type": "code",
   "execution_count": 121,
   "metadata": {},
   "outputs": [
    {
     "name": "stdout",
     "output_type": "stream",
     "text": [
      "yz\n"
     ]
    }
   ],
   "source": [
    "valores = \"hola mundo cajón bajón melon\"\n",
    "valores = valores.split()\n",
    "valores\n",
    "\n",
    "get_value = lambda key: teclado[key[0]]\n",
    "letra_a_numero = lambda letra: get_value([keys for keys in teclado.keys() if letra in keys])\n",
    "\n",
    "palabra_a_numero = lambda palabra: ''.join(letra_a_numero,palabra)\n",
    "palabra_a_numero('hola')\n",
    "\n"
   ]
  }
 ],
 "metadata": {
  "kernelspec": {
   "display_name": "Python 3.10.8 64-bit (microsoft store)",
   "language": "python",
   "name": "python3"
  },
  "language_info": {
   "codemirror_mode": {
    "name": "ipython",
    "version": 3
   },
   "file_extension": ".py",
   "mimetype": "text/x-python",
   "name": "python",
   "nbconvert_exporter": "python",
   "pygments_lexer": "ipython3",
   "version": "3.10.8"
  },
  "vscode": {
   "interpreter": {
    "hash": "933220bd3bd0d4c221f7ea232c9212ab8fb8a722fe1db461ffd591306e340b7e"
   }
  }
 },
 "nbformat": 4,
 "nbformat_minor": 2
}
